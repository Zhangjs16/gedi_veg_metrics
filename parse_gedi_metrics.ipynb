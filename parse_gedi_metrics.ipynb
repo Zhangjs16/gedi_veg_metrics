{
 "cells": [
  {
   "cell_type": "code",
   "execution_count": null,
   "metadata": {},
   "outputs": [],
   "source": [
    "import geopandas as gpd\n",
    "from pyGEDI import *"
   ]
  },
  {
   "cell_type": "markdown",
   "metadata": {},
   "source": [
    "Set the location of the polygons defining the area of interest. Takes .shp, geojson and .gpkg"
   ]
  },
  {
   "cell_type": "code",
   "execution_count": null,
   "metadata": {},
   "outputs": [],
   "source": [
    "aoi_dir = 'example_aoi/peak_downs_offset.geojson'"
   ]
  },
  {
   "cell_type": "markdown",
   "metadata": {},
   "source": [
    "Load AOI into geopandas dataframe."
   ]
  },
  {
   "cell_type": "code",
   "execution_count": null,
   "metadata": {},
   "outputs": [],
   "source": [
    "aoi_df = gpd.read_file(aoi_dir)\n",
    "aoi_df"
   ]
  },
  {
   "cell_type": "markdown",
   "metadata": {},
   "source": [
    "Get the bounding box of the AOI needed for dowloading GEDI files."
   ]
  },
  {
   "cell_type": "code",
   "execution_count": null,
   "metadata": {},
   "outputs": [],
   "source": [
    "# Get bounding box of poly_df\n",
    "bounds = aoi_df.total_bounds\n",
    "\n",
    "# total_bounds returns an array in the wrong order for GEDI finder service, so we rearrange.\n",
    "bbox = [bounds[1], bounds[0], bounds[3], bounds[2]]"
   ]
  },
  {
   "cell_type": "markdown",
   "metadata": {},
   "source": [
    "Initialise NASA earthdata account details. Account can be created here https://urs.earthdata.nasa.gov/"
   ]
  },
  {
   "cell_type": "code",
   "execution_count": null,
   "metadata": {},
   "outputs": [],
   "source": [
    "# Get bounding box of poly_df\n",
    "username=''\n",
    "password=''\n",
    "\n",
    "# Get bounding box of poly_df\n",
    "session=sessionNASA(username,password)"
   ]
  },
  {
   "cell_type": "markdown",
   "metadata": {},
   "source": [
    "Download the GEDI orbits that cover the AOI. Time taken will vary on the size of AOI, GEDI coverage and internet speed."
   ]
  },
  {
   "cell_type": "code",
   "execution_count": null,
   "metadata": {},
   "outputs": [],
   "source": [
    "# Define download directory structure\n",
    "product_2B='GEDI02_B'\n",
    "version='001'\n",
    "gedi_dir = 'gedi_data/'\n",
    "outdir_2B = gedi_dir + product_2B + '.' + version + '/'\n",
    "\n",
    "# Download GEDI data using pyGEDI\n",
    "gediDownload(outdir_2B,product_2B,version,bbox,session)"
   ]
  },
  {
   "cell_type": "markdown",
   "metadata": {},
   "source": [
    "Extract metrics from shots within polygons. This may take a couple of minutes to a couple of hours depending on the number of GEDI orbits."
   ]
  },
  {
   "cell_type": "code",
   "execution_count": null,
   "metadata": {},
   "outputs": [],
   "source": [
    "# Import processing functions\n",
    "from parse_gedi import *\n",
    "\n",
    "# Define output directory\n",
    "out_dir = 'output/'\n",
    "# Define data directory\n",
    "gedi_dir = 'gedi_data/'\n",
    "# Define AOI directory\n",
    "aoi_dir = 'example_aoi/peak_downs_offset.geojson'\n",
    "\n",
    "# Run processing pileine\n",
    "gedi_aoi_process(gedi_dir, out_dir, aoi_dir, qual = True)"
   ]
  },
  {
   "cell_type": "markdown",
   "metadata": {},
   "source": [
    "The outputted shapefile and csv can be imported to other GIS software for analysis."
   ]
  }
 ],
 "metadata": {
  "kernelspec": {
   "display_name": "Python 3",
   "language": "python",
   "name": "python3"
  },
  "language_info": {
   "codemirror_mode": {
    "name": "ipython",
    "version": 3
   },
   "file_extension": ".py",
   "mimetype": "text/x-python",
   "name": "python",
   "nbconvert_exporter": "python",
   "pygments_lexer": "ipython3",
   "version": "3.8.2"
  }
 },
 "nbformat": 4,
 "nbformat_minor": 4
}
